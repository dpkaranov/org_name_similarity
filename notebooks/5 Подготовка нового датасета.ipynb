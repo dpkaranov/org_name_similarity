{
 "cells": [
  {
   "cell_type": "code",
   "execution_count": 1,
   "id": "46240839",
   "metadata": {
    "_cell_guid": "b1076dfc-b9ad-4769-8c92-a6c4dae69d19",
    "_uuid": "8f2839f25d086af736a60e9eeb907d3b93b6e0e5",
    "execution": {
     "iopub.execute_input": "2022-10-21T19:03:59.630329Z",
     "iopub.status.busy": "2022-10-21T19:03:59.629701Z",
     "iopub.status.idle": "2022-10-21T19:03:59.642113Z",
     "shell.execute_reply": "2022-10-21T19:03:59.641199Z"
    },
    "papermill": {
     "duration": 0.025644,
     "end_time": "2022-10-21T19:03:59.644397",
     "exception": false,
     "start_time": "2022-10-21T19:03:59.618753",
     "status": "completed"
    },
    "tags": []
   },
   "outputs": [],
   "source": [
    "import numpy as np # linear algebra\n",
    "import pandas as pd # data processing, CSV file I/O (e.g. pd.read_csv)\n",
    "import os"
   ]
  },
  {
   "cell_type": "code",
   "execution_count": 2,
   "id": "58da19dc",
   "metadata": {
    "execution": {
     "iopub.execute_input": "2022-10-21T19:03:59.661825Z",
     "iopub.status.busy": "2022-10-21T19:03:59.661478Z",
     "iopub.status.idle": "2022-10-21T19:04:00.559311Z",
     "shell.execute_reply": "2022-10-21T19:04:00.558349Z"
    },
    "papermill": {
     "duration": 0.90927,
     "end_time": "2022-10-21T19:04:00.561832",
     "exception": false,
     "start_time": "2022-10-21T19:03:59.652562",
     "status": "completed"
    },
    "tags": []
   },
   "outputs": [],
   "source": [
    "df = pd.read_csv('../input/newtrain/train.csv')"
   ]
  },
  {
   "cell_type": "code",
   "execution_count": 3,
   "id": "7d79c9b3",
   "metadata": {
    "execution": {
     "iopub.execute_input": "2022-10-21T19:04:00.582500Z",
     "iopub.status.busy": "2022-10-21T19:04:00.582096Z",
     "iopub.status.idle": "2022-10-21T19:04:00.607109Z",
     "shell.execute_reply": "2022-10-21T19:04:00.606060Z"
    },
    "papermill": {
     "duration": 0.036474,
     "end_time": "2022-10-21T19:04:00.609483",
     "exception": false,
     "start_time": "2022-10-21T19:04:00.573009",
     "status": "completed"
    },
    "tags": []
   },
   "outputs": [
    {
     "data": {
      "text/html": [
       "<div>\n",
       "<style scoped>\n",
       "    .dataframe tbody tr th:only-of-type {\n",
       "        vertical-align: middle;\n",
       "    }\n",
       "\n",
       "    .dataframe tbody tr th {\n",
       "        vertical-align: top;\n",
       "    }\n",
       "\n",
       "    .dataframe thead th {\n",
       "        text-align: right;\n",
       "    }\n",
       "</style>\n",
       "<table border=\"1\" class=\"dataframe\">\n",
       "  <thead>\n",
       "    <tr style=\"text-align: right;\">\n",
       "      <th></th>\n",
       "      <th>pair_id</th>\n",
       "      <th>name_1</th>\n",
       "      <th>name_2</th>\n",
       "      <th>is_duplicate</th>\n",
       "      <th>Unnamed: 4</th>\n",
       "    </tr>\n",
       "  </thead>\n",
       "  <tbody>\n",
       "    <tr>\n",
       "      <th>0</th>\n",
       "      <td>1</td>\n",
       "      <td>Iko Industries Ltd.</td>\n",
       "      <td>Enormous Industrial Trade Pvt., Ltd.</td>\n",
       "      <td>0</td>\n",
       "      <td>NaN</td>\n",
       "    </tr>\n",
       "    <tr>\n",
       "      <th>1</th>\n",
       "      <td>2</td>\n",
       "      <td>Apcotex Industries Ltd.</td>\n",
       "      <td>Technocraft Industries (India) Ltd.</td>\n",
       "      <td>0</td>\n",
       "      <td>NaN</td>\n",
       "    </tr>\n",
       "    <tr>\n",
       "      <th>2</th>\n",
       "      <td>3</td>\n",
       "      <td>Rishichem Distributors Pvt., Ltd.</td>\n",
       "      <td>Dsa</td>\n",
       "      <td>0</td>\n",
       "      <td>NaN</td>\n",
       "    </tr>\n",
       "    <tr>\n",
       "      <th>3</th>\n",
       "      <td>4</td>\n",
       "      <td>Powermax Rubber Factory</td>\n",
       "      <td>Co. One</td>\n",
       "      <td>0</td>\n",
       "      <td>NaN</td>\n",
       "    </tr>\n",
       "    <tr>\n",
       "      <th>4</th>\n",
       "      <td>5</td>\n",
       "      <td>Tress A/S</td>\n",
       "      <td>Longyou Industries Park Zhejiang</td>\n",
       "      <td>0</td>\n",
       "      <td>NaN</td>\n",
       "    </tr>\n",
       "  </tbody>\n",
       "</table>\n",
       "</div>"
      ],
      "text/plain": [
       "   pair_id                             name_1  \\\n",
       "0        1                Iko Industries Ltd.   \n",
       "1        2            Apcotex Industries Ltd.   \n",
       "2        3  Rishichem Distributors Pvt., Ltd.   \n",
       "3        4            Powermax Rubber Factory   \n",
       "4        5                          Tress A/S   \n",
       "\n",
       "                                 name_2 is_duplicate  Unnamed: 4  \n",
       "0  Enormous Industrial Trade Pvt., Ltd.            0         NaN  \n",
       "1   Technocraft Industries (India) Ltd.            0         NaN  \n",
       "2                                   Dsa            0         NaN  \n",
       "3                               Co. One            0         NaN  \n",
       "4      Longyou Industries Park Zhejiang            0         NaN  "
      ]
     },
     "execution_count": 3,
     "metadata": {},
     "output_type": "execute_result"
    }
   ],
   "source": [
    "df.head()"
   ]
  },
  {
   "cell_type": "code",
   "execution_count": 4,
   "id": "d4d603be",
   "metadata": {
    "execution": {
     "iopub.execute_input": "2022-10-21T19:04:00.627251Z",
     "iopub.status.busy": "2022-10-21T19:04:00.626845Z",
     "iopub.status.idle": "2022-10-21T19:04:00.660143Z",
     "shell.execute_reply": "2022-10-21T19:04:00.658938Z"
    },
    "papermill": {
     "duration": 0.044771,
     "end_time": "2022-10-21T19:04:00.662421",
     "exception": false,
     "start_time": "2022-10-21T19:04:00.617650",
     "status": "completed"
    },
    "tags": []
   },
   "outputs": [],
   "source": [
    "df = df.drop(['Unnamed: 4'], axis = 1)"
   ]
  },
  {
   "cell_type": "code",
   "execution_count": 5,
   "id": "97a20a69",
   "metadata": {
    "execution": {
     "iopub.execute_input": "2022-10-21T19:04:00.680698Z",
     "iopub.status.busy": "2022-10-21T19:04:00.680299Z",
     "iopub.status.idle": "2022-10-21T19:04:00.691507Z",
     "shell.execute_reply": "2022-10-21T19:04:00.690489Z"
    },
    "papermill": {
     "duration": 0.022924,
     "end_time": "2022-10-21T19:04:00.693805",
     "exception": false,
     "start_time": "2022-10-21T19:04:00.670881",
     "status": "completed"
    },
    "tags": []
   },
   "outputs": [
    {
     "data": {
      "text/html": [
       "<div>\n",
       "<style scoped>\n",
       "    .dataframe tbody tr th:only-of-type {\n",
       "        vertical-align: middle;\n",
       "    }\n",
       "\n",
       "    .dataframe tbody tr th {\n",
       "        vertical-align: top;\n",
       "    }\n",
       "\n",
       "    .dataframe thead th {\n",
       "        text-align: right;\n",
       "    }\n",
       "</style>\n",
       "<table border=\"1\" class=\"dataframe\">\n",
       "  <thead>\n",
       "    <tr style=\"text-align: right;\">\n",
       "      <th></th>\n",
       "      <th>pair_id</th>\n",
       "      <th>name_1</th>\n",
       "      <th>name_2</th>\n",
       "      <th>is_duplicate</th>\n",
       "    </tr>\n",
       "  </thead>\n",
       "  <tbody>\n",
       "    <tr>\n",
       "      <th>0</th>\n",
       "      <td>1</td>\n",
       "      <td>Iko Industries Ltd.</td>\n",
       "      <td>Enormous Industrial Trade Pvt., Ltd.</td>\n",
       "      <td>0</td>\n",
       "    </tr>\n",
       "    <tr>\n",
       "      <th>1</th>\n",
       "      <td>2</td>\n",
       "      <td>Apcotex Industries Ltd.</td>\n",
       "      <td>Technocraft Industries (India) Ltd.</td>\n",
       "      <td>0</td>\n",
       "    </tr>\n",
       "    <tr>\n",
       "      <th>2</th>\n",
       "      <td>3</td>\n",
       "      <td>Rishichem Distributors Pvt., Ltd.</td>\n",
       "      <td>Dsa</td>\n",
       "      <td>0</td>\n",
       "    </tr>\n",
       "    <tr>\n",
       "      <th>3</th>\n",
       "      <td>4</td>\n",
       "      <td>Powermax Rubber Factory</td>\n",
       "      <td>Co. One</td>\n",
       "      <td>0</td>\n",
       "    </tr>\n",
       "    <tr>\n",
       "      <th>4</th>\n",
       "      <td>5</td>\n",
       "      <td>Tress A/S</td>\n",
       "      <td>Longyou Industries Park Zhejiang</td>\n",
       "      <td>0</td>\n",
       "    </tr>\n",
       "  </tbody>\n",
       "</table>\n",
       "</div>"
      ],
      "text/plain": [
       "   pair_id                             name_1  \\\n",
       "0        1                Iko Industries Ltd.   \n",
       "1        2            Apcotex Industries Ltd.   \n",
       "2        3  Rishichem Distributors Pvt., Ltd.   \n",
       "3        4            Powermax Rubber Factory   \n",
       "4        5                          Tress A/S   \n",
       "\n",
       "                                 name_2 is_duplicate  \n",
       "0  Enormous Industrial Trade Pvt., Ltd.            0  \n",
       "1   Technocraft Industries (India) Ltd.            0  \n",
       "2                                   Dsa            0  \n",
       "3                               Co. One            0  \n",
       "4      Longyou Industries Park Zhejiang            0  "
      ]
     },
     "execution_count": 5,
     "metadata": {},
     "output_type": "execute_result"
    }
   ],
   "source": [
    "df.head()"
   ]
  },
  {
   "cell_type": "code",
   "execution_count": 6,
   "id": "959164c3",
   "metadata": {
    "execution": {
     "iopub.execute_input": "2022-10-21T19:04:00.714040Z",
     "iopub.status.busy": "2022-10-21T19:04:00.713674Z",
     "iopub.status.idle": "2022-10-21T19:04:14.645453Z",
     "shell.execute_reply": "2022-10-21T19:04:14.644204Z"
    },
    "papermill": {
     "duration": 13.944569,
     "end_time": "2022-10-21T19:04:14.648209",
     "exception": false,
     "start_time": "2022-10-21T19:04:00.703640",
     "status": "completed"
    },
    "tags": []
   },
   "outputs": [
    {
     "name": "stdout",
     "output_type": "stream",
     "text": [
      "Collecting transliterate\r\n",
      "  Downloading transliterate-1.10.2-py2.py3-none-any.whl (45 kB)\r\n",
      "\u001b[2K     \u001b[90m━━━━━━━━━━━━━━━━━━━━━━━━━━━━━━━━━━━━━━━\u001b[0m \u001b[32m45.8/45.8 kB\u001b[0m \u001b[31m203.3 kB/s\u001b[0m eta \u001b[36m0:00:00\u001b[0m\r\n",
      "\u001b[?25hRequirement already satisfied: six>=1.1.0 in /opt/conda/lib/python3.7/site-packages (from transliterate) (1.15.0)\r\n",
      "Installing collected packages: transliterate\r\n",
      "Successfully installed transliterate-1.10.2\r\n",
      "\u001b[33mWARNING: Running pip as the 'root' user can result in broken permissions and conflicting behaviour with the system package manager. It is recommended to use a virtual environment instead: https://pip.pypa.io/warnings/venv\u001b[0m\u001b[33m\r\n",
      "\u001b[0m"
     ]
    }
   ],
   "source": [
    "!pip install transliterate"
   ]
  },
  {
   "cell_type": "code",
   "execution_count": 7,
   "id": "b958b37f",
   "metadata": {
    "execution": {
     "iopub.execute_input": "2022-10-21T19:04:14.668852Z",
     "iopub.status.busy": "2022-10-21T19:04:14.668435Z",
     "iopub.status.idle": "2022-10-21T19:04:14.752087Z",
     "shell.execute_reply": "2022-10-21T19:04:14.750973Z"
    },
    "papermill": {
     "duration": 0.097313,
     "end_time": "2022-10-21T19:04:14.754580",
     "exception": false,
     "start_time": "2022-10-21T19:04:14.657267",
     "status": "completed"
    },
    "tags": []
   },
   "outputs": [],
   "source": [
    "new = df.loc[df['name_1'].value_counts()[1060:]]"
   ]
  },
  {
   "cell_type": "code",
   "execution_count": 8,
   "id": "391559f3",
   "metadata": {
    "execution": {
     "iopub.execute_input": "2022-10-21T19:04:14.783779Z",
     "iopub.status.busy": "2022-10-21T19:04:14.783366Z",
     "iopub.status.idle": "2022-10-21T19:04:14.898939Z",
     "shell.execute_reply": "2022-10-21T19:04:14.897588Z"
    },
    "papermill": {
     "duration": 0.133913,
     "end_time": "2022-10-21T19:04:14.902237",
     "exception": false,
     "start_time": "2022-10-21T19:04:14.768324",
     "status": "completed"
    },
    "tags": []
   },
   "outputs": [
    {
     "data": {
      "text/plain": [
       "array(['Iko Industries Ltd.', 'Apcotex Industries Ltd.',\n",
       "       'Rishichem Distributors Pvt., Ltd.', ..., 'Kinik Co.',\n",
       "       'Pearl Patch', 'Mubea Inc.'], dtype=object)"
      ]
     },
     "execution_count": 8,
     "metadata": {},
     "output_type": "execute_result"
    }
   ],
   "source": [
    "df.name_1.unique()"
   ]
  },
  {
   "cell_type": "code",
   "execution_count": 9,
   "id": "08cfedd5",
   "metadata": {
    "execution": {
     "iopub.execute_input": "2022-10-21T19:04:14.922701Z",
     "iopub.status.busy": "2022-10-21T19:04:14.922312Z",
     "iopub.status.idle": "2022-10-21T19:04:15.103077Z",
     "shell.execute_reply": "2022-10-21T19:04:15.101942Z"
    },
    "papermill": {
     "duration": 0.194333,
     "end_time": "2022-10-21T19:04:15.106101",
     "exception": false,
     "start_time": "2022-10-21T19:04:14.911768",
     "status": "completed"
    },
    "tags": []
   },
   "outputs": [],
   "source": [
    "new = df.name_1.unique()\n",
    "new = np.append(new, df.name_2.unique())"
   ]
  },
  {
   "cell_type": "code",
   "execution_count": 10,
   "id": "69e4f302",
   "metadata": {
    "execution": {
     "iopub.execute_input": "2022-10-21T19:04:15.125718Z",
     "iopub.status.busy": "2022-10-21T19:04:15.125315Z",
     "iopub.status.idle": "2022-10-21T19:04:15.135601Z",
     "shell.execute_reply": "2022-10-21T19:04:15.134590Z"
    },
    "papermill": {
     "duration": 0.022747,
     "end_time": "2022-10-21T19:04:15.137847",
     "exception": false,
     "start_time": "2022-10-21T19:04:15.115100",
     "status": "completed"
    },
    "tags": []
   },
   "outputs": [],
   "source": [
    "new = set(new)"
   ]
  },
  {
   "cell_type": "code",
   "execution_count": 11,
   "id": "bac4b4ef",
   "metadata": {
    "execution": {
     "iopub.execute_input": "2022-10-21T19:04:15.157667Z",
     "iopub.status.busy": "2022-10-21T19:04:15.157291Z",
     "iopub.status.idle": "2022-10-21T19:04:15.162838Z",
     "shell.execute_reply": "2022-10-21T19:04:15.161845Z"
    },
    "papermill": {
     "duration": 0.018011,
     "end_time": "2022-10-21T19:04:15.165054",
     "exception": false,
     "start_time": "2022-10-21T19:04:15.147043",
     "status": "completed"
    },
    "tags": []
   },
   "outputs": [],
   "source": [
    "new = list(new)"
   ]
  },
  {
   "cell_type": "code",
   "execution_count": 12,
   "id": "fb6c959d",
   "metadata": {
    "execution": {
     "iopub.execute_input": "2022-10-21T19:04:15.185655Z",
     "iopub.status.busy": "2022-10-21T19:04:15.184451Z",
     "iopub.status.idle": "2022-10-21T19:04:15.204930Z",
     "shell.execute_reply": "2022-10-21T19:04:15.203755Z"
    },
    "papermill": {
     "duration": 0.033586,
     "end_time": "2022-10-21T19:04:15.207634",
     "exception": false,
     "start_time": "2022-10-21T19:04:15.174048",
     "status": "completed"
    },
    "tags": []
   },
   "outputs": [],
   "source": [
    "common = [x.split(' ') for x in new]"
   ]
  },
  {
   "cell_type": "code",
   "execution_count": 13,
   "id": "7641f529",
   "metadata": {
    "execution": {
     "iopub.execute_input": "2022-10-21T19:04:15.227876Z",
     "iopub.status.busy": "2022-10-21T19:04:15.226821Z",
     "iopub.status.idle": "2022-10-21T19:04:15.232635Z",
     "shell.execute_reply": "2022-10-21T19:04:15.231520Z"
    },
    "papermill": {
     "duration": 0.018344,
     "end_time": "2022-10-21T19:04:15.234926",
     "exception": false,
     "start_time": "2022-10-21T19:04:15.216582",
     "status": "completed"
    },
    "tags": []
   },
   "outputs": [],
   "source": [
    "def most_common(lst):\n",
    "    return sorted(lst, key=lst.count, reverse = True)"
   ]
  },
  {
   "cell_type": "code",
   "execution_count": 14,
   "id": "7840b28e",
   "metadata": {
    "execution": {
     "iopub.execute_input": "2022-10-21T19:04:15.254873Z",
     "iopub.status.busy": "2022-10-21T19:04:15.254023Z",
     "iopub.status.idle": "2022-10-21T19:04:15.259570Z",
     "shell.execute_reply": "2022-10-21T19:04:15.258397Z"
    },
    "papermill": {
     "duration": 0.017661,
     "end_time": "2022-10-21T19:04:15.261604",
     "exception": false,
     "start_time": "2022-10-21T19:04:15.243943",
     "status": "completed"
    },
    "tags": []
   },
   "outputs": [],
   "source": [
    "from itertools import chain"
   ]
  },
  {
   "cell_type": "code",
   "execution_count": 15,
   "id": "1e31c8e5",
   "metadata": {
    "execution": {
     "iopub.execute_input": "2022-10-21T19:04:15.281828Z",
     "iopub.status.busy": "2022-10-21T19:04:15.281035Z",
     "iopub.status.idle": "2022-10-21T19:04:15.289249Z",
     "shell.execute_reply": "2022-10-21T19:04:15.288052Z"
    },
    "papermill": {
     "duration": 0.021098,
     "end_time": "2022-10-21T19:04:15.291668",
     "exception": false,
     "start_time": "2022-10-21T19:04:15.270570",
     "status": "completed"
    },
    "tags": []
   },
   "outputs": [],
   "source": [
    "comp = list(chain(*common))"
   ]
  },
  {
   "cell_type": "code",
   "execution_count": 16,
   "id": "a8e98e5e",
   "metadata": {
    "execution": {
     "iopub.execute_input": "2022-10-21T19:04:15.311142Z",
     "iopub.status.busy": "2022-10-21T19:04:15.310722Z",
     "iopub.status.idle": "2022-10-21T19:06:13.647946Z",
     "shell.execute_reply": "2022-10-21T19:06:13.646596Z"
    },
    "papermill": {
     "duration": 118.357158,
     "end_time": "2022-10-21T19:06:13.657677",
     "exception": false,
     "start_time": "2022-10-21T19:04:15.300519",
     "status": "completed"
    },
    "tags": []
   },
   "outputs": [],
   "source": [
    "nabor = most_common(comp)"
   ]
  },
  {
   "cell_type": "code",
   "execution_count": 17,
   "id": "94389342",
   "metadata": {
    "execution": {
     "iopub.execute_input": "2022-10-21T19:06:13.677357Z",
     "iopub.status.busy": "2022-10-21T19:06:13.676909Z",
     "iopub.status.idle": "2022-10-21T19:06:13.866544Z",
     "shell.execute_reply": "2022-10-21T19:06:13.865323Z"
    },
    "papermill": {
     "duration": 0.202634,
     "end_time": "2022-10-21T19:06:13.869267",
     "exception": false,
     "start_time": "2022-10-21T19:06:13.666633",
     "status": "completed"
    },
    "tags": []
   },
   "outputs": [],
   "source": [
    "comp = [x.replace('(', '') for x in comp]\n",
    "comp = [x.replace(')', '') for x in comp]\n",
    "comp = [x.replace('\\xa0', '') for x in comp]\n",
    "comp = [x.replace('\"', '') for x in comp]\n",
    "comp = [x for x in comp if not any([i in 'АаБбВвГгДдЕеЁёЖжЗзИиЙйКкЛлМмНнОоПпРрСсТтУуФфХхЦцЧчШшЩщЪъЫыЬьЭэЮюЯя' for i in x])]\n",
    "comp = [x for x in comp if all([i in'abcdefghijklmnopqrstuvwxyzABCDEFGHIJKLMNOPQRSTUVWXYZ1234567890-.@' for i in x])]"
   ]
  },
  {
   "cell_type": "code",
   "execution_count": 18,
   "id": "50bd05b2",
   "metadata": {
    "execution": {
     "iopub.execute_input": "2022-10-21T19:06:13.889707Z",
     "iopub.status.busy": "2022-10-21T19:06:13.889284Z",
     "iopub.status.idle": "2022-10-21T19:06:18.756291Z",
     "shell.execute_reply": "2022-10-21T19:06:18.754563Z"
    },
    "papermill": {
     "duration": 4.88002,
     "end_time": "2022-10-21T19:06:18.758948",
     "exception": false,
     "start_time": "2022-10-21T19:06:13.878928",
     "status": "completed"
    },
    "tags": []
   },
   "outputs": [],
   "source": [
    "imena = []\n",
    "for n in comp:\n",
    "    if n.lower().capitalize() not in imena and len(n) > 3 and not n.isnumeric():\n",
    "        imena.append(n.lower().capitalize())"
   ]
  },
  {
   "cell_type": "code",
   "execution_count": 19,
   "id": "0186d9c9",
   "metadata": {
    "execution": {
     "iopub.execute_input": "2022-10-21T19:06:18.779768Z",
     "iopub.status.busy": "2022-10-21T19:06:18.779356Z",
     "iopub.status.idle": "2022-10-21T19:06:18.784464Z",
     "shell.execute_reply": "2022-10-21T19:06:18.783503Z"
    },
    "papermill": {
     "duration": 0.018317,
     "end_time": "2022-10-21T19:06:18.786830",
     "exception": false,
     "start_time": "2022-10-21T19:06:18.768513",
     "status": "completed"
    },
    "tags": []
   },
   "outputs": [],
   "source": [
    "suffix = imena[:(len(imena) // 5) + 50]\n",
    "titles = imena[(len(imena) // 5) + 50:]"
   ]
  },
  {
   "cell_type": "code",
   "execution_count": 20,
   "id": "d9b1faa6",
   "metadata": {
    "execution": {
     "iopub.execute_input": "2022-10-21T19:06:18.806600Z",
     "iopub.status.busy": "2022-10-21T19:06:18.805885Z",
     "iopub.status.idle": "2022-10-21T19:06:18.810952Z",
     "shell.execute_reply": "2022-10-21T19:06:18.810213Z"
    },
    "papermill": {
     "duration": 0.017464,
     "end_time": "2022-10-21T19:06:18.813055",
     "exception": false,
     "start_time": "2022-10-21T19:06:18.795591",
     "status": "completed"
    },
    "tags": []
   },
   "outputs": [],
   "source": [
    "from random import choice, shuffle"
   ]
  },
  {
   "cell_type": "code",
   "execution_count": 21,
   "id": "7009751f",
   "metadata": {
    "execution": {
     "iopub.execute_input": "2022-10-21T19:06:18.833855Z",
     "iopub.status.busy": "2022-10-21T19:06:18.832820Z",
     "iopub.status.idle": "2022-10-21T19:06:18.839797Z",
     "shell.execute_reply": "2022-10-21T19:06:18.838842Z"
    },
    "papermill": {
     "duration": 0.019173,
     "end_time": "2022-10-21T19:06:18.841877",
     "exception": false,
     "start_time": "2022-10-21T19:06:18.822704",
     "status": "completed"
    },
    "tags": []
   },
   "outputs": [
    {
     "data": {
      "text/plain": [
       "'Basicos'"
      ]
     },
     "execution_count": 21,
     "metadata": {},
     "output_type": "execute_result"
    }
   ],
   "source": [
    "choice(suffix)"
   ]
  },
  {
   "cell_type": "code",
   "execution_count": 22,
   "id": "29bab933",
   "metadata": {
    "execution": {
     "iopub.execute_input": "2022-10-21T19:06:18.861622Z",
     "iopub.status.busy": "2022-10-21T19:06:18.860973Z",
     "iopub.status.idle": "2022-10-21T19:06:18.866523Z",
     "shell.execute_reply": "2022-10-21T19:06:18.865593Z"
    },
    "papermill": {
     "duration": 0.018138,
     "end_time": "2022-10-21T19:06:18.868869",
     "exception": false,
     "start_time": "2022-10-21T19:06:18.850731",
     "status": "completed"
    },
    "tags": []
   },
   "outputs": [],
   "source": [
    "def make_sp():\n",
    "    firstsp = []\n",
    "    for tit in titles:\n",
    "        firstsp.append(' '.join([tit, choice(suffix)]))\n",
    "    return firstsp"
   ]
  },
  {
   "cell_type": "code",
   "execution_count": 23,
   "id": "736b877b",
   "metadata": {
    "execution": {
     "iopub.execute_input": "2022-10-21T19:06:18.888509Z",
     "iopub.status.busy": "2022-10-21T19:06:18.888087Z",
     "iopub.status.idle": "2022-10-21T19:06:18.894234Z",
     "shell.execute_reply": "2022-10-21T19:06:18.893383Z"
    },
    "papermill": {
     "duration": 0.01841,
     "end_time": "2022-10-21T19:06:18.896345",
     "exception": false,
     "start_time": "2022-10-21T19:06:18.877935",
     "status": "completed"
    },
    "tags": []
   },
   "outputs": [],
   "source": [
    "postsuf = ['International', \n",
    "           'Inc.', \n",
    "           'Incorporation', \n",
    "           'OAO', \n",
    "           'Global', \n",
    "           'Limited', \n",
    "           'and Co.', \n",
    "           'of Moscow', \n",
    "           'of Russia', \n",
    "           'of N.Y.', \n",
    "           'Lmt.', \n",
    "           'Brotherhood', \n",
    "           'Bancgroup', \n",
    "           'Properties', \n",
    "           'Technologies', \n",
    "           'Corporation', \n",
    "           'Company', \n",
    "           'Industries', \n",
    "           'of Alabama', \n",
    "           'of Nebraska', \n",
    "           'Engineering', \n",
    "           'Energy', \n",
    "           'Entertainment', \n",
    "           'Bank', \n",
    "           'Foods', \n",
    "           'of Florida', \n",
    "           'of Hawaii', \n",
    "           'of Delaver', \n",
    "           'of Germany', \n",
    "           'of France', \n",
    "           'of Colorado']"
   ]
  },
  {
   "cell_type": "code",
   "execution_count": 24,
   "id": "9c37fbf4",
   "metadata": {
    "execution": {
     "iopub.execute_input": "2022-10-21T19:06:18.916758Z",
     "iopub.status.busy": "2022-10-21T19:06:18.915792Z",
     "iopub.status.idle": "2022-10-21T19:06:18.921947Z",
     "shell.execute_reply": "2022-10-21T19:06:18.920759Z"
    },
    "papermill": {
     "duration": 0.019002,
     "end_time": "2022-10-21T19:06:18.924516",
     "exception": false,
     "start_time": "2022-10-21T19:06:18.905514",
     "status": "completed"
    },
    "tags": []
   },
   "outputs": [],
   "source": [
    "def make_second_sp(first):\n",
    "    secondsp = []\n",
    "    for i in range(len(first)):\n",
    "        var = choice(postsuf)\n",
    "        while var in first[i]:\n",
    "            var = choice(postsuf)\n",
    "        secondsp.append(' '.join([first[i], var]))\n",
    "    return secondsp\n",
    "    "
   ]
  },
  {
   "cell_type": "code",
   "execution_count": 25,
   "id": "4fb559b5",
   "metadata": {
    "execution": {
     "iopub.execute_input": "2022-10-21T19:06:18.944731Z",
     "iopub.status.busy": "2022-10-21T19:06:18.943930Z",
     "iopub.status.idle": "2022-10-21T19:06:19.659998Z",
     "shell.execute_reply": "2022-10-21T19:06:19.658635Z"
    },
    "papermill": {
     "duration": 0.729075,
     "end_time": "2022-10-21T19:06:19.662625",
     "exception": false,
     "start_time": "2022-10-21T19:06:18.933550",
     "status": "completed"
    },
    "tags": []
   },
   "outputs": [],
   "source": [
    "f = []\n",
    "s = []\n",
    "for i in range(20):\n",
    "    fr = make_sp()\n",
    "    sd = make_second_sp(fr)\n",
    "    f = f + fr\n",
    "    s = s + sd\n",
    "    "
   ]
  },
  {
   "cell_type": "code",
   "execution_count": 26,
   "id": "c95611ac",
   "metadata": {
    "execution": {
     "iopub.execute_input": "2022-10-21T19:06:19.682077Z",
     "iopub.status.busy": "2022-10-21T19:06:19.681680Z",
     "iopub.status.idle": "2022-10-21T19:06:19.697511Z",
     "shell.execute_reply": "2022-10-21T19:06:19.696647Z"
    },
    "papermill": {
     "duration": 0.028079,
     "end_time": "2022-10-21T19:06:19.699705",
     "exception": false,
     "start_time": "2022-10-21T19:06:19.671626",
     "status": "completed"
    },
    "tags": []
   },
   "outputs": [],
   "source": [
    "f0 = f[1:] + f[:1]\n",
    "s0 = s[::-1]"
   ]
  },
  {
   "cell_type": "code",
   "execution_count": 27,
   "id": "a775e6f3",
   "metadata": {
    "execution": {
     "iopub.execute_input": "2022-10-21T19:06:19.720668Z",
     "iopub.status.busy": "2022-10-21T19:06:19.719557Z",
     "iopub.status.idle": "2022-10-21T19:06:19.725799Z",
     "shell.execute_reply": "2022-10-21T19:06:19.724738Z"
    },
    "papermill": {
     "duration": 0.019476,
     "end_time": "2022-10-21T19:06:19.728401",
     "exception": false,
     "start_time": "2022-10-21T19:06:19.708925",
     "status": "completed"
    },
    "tags": []
   },
   "outputs": [
    {
     "name": "stdout",
     "output_type": "stream",
     "text": [
      "['Social Norwegian', 'Islami Apple', 'Allnassr Dalian', 'Lalmansogat Juan', 'Rakia Capital'] ['Dhali Nations Corporation', 'Shama Body of Moscow', 'Evonic Pigipada Limited', 'Julio Wenzhou Entertainment', 'Suez Berwin Inc.']\n"
     ]
    }
   ],
   "source": [
    "print(f0[:5], s0[:5])"
   ]
  },
  {
   "cell_type": "code",
   "execution_count": 28,
   "id": "47cfd627",
   "metadata": {
    "execution": {
     "iopub.execute_input": "2022-10-21T19:06:19.748678Z",
     "iopub.status.busy": "2022-10-21T19:06:19.748050Z",
     "iopub.status.idle": "2022-10-21T19:06:19.755964Z",
     "shell.execute_reply": "2022-10-21T19:06:19.754886Z"
    },
    "papermill": {
     "duration": 0.020784,
     "end_time": "2022-10-21T19:06:19.758357",
     "exception": false,
     "start_time": "2022-10-21T19:06:19.737573",
     "status": "completed"
    },
    "tags": []
   },
   "outputs": [],
   "source": [
    "dup = [1] * len(f)\n",
    "dup0 = [0] * len(f0)"
   ]
  },
  {
   "cell_type": "code",
   "execution_count": 29,
   "id": "204731c2",
   "metadata": {
    "execution": {
     "iopub.execute_input": "2022-10-21T19:06:19.778291Z",
     "iopub.status.busy": "2022-10-21T19:06:19.777895Z",
     "iopub.status.idle": "2022-10-21T19:06:19.799376Z",
     "shell.execute_reply": "2022-10-21T19:06:19.798060Z"
    },
    "papermill": {
     "duration": 0.034472,
     "end_time": "2022-10-21T19:06:19.801807",
     "exception": false,
     "start_time": "2022-10-21T19:06:19.767335",
     "status": "completed"
    },
    "tags": []
   },
   "outputs": [],
   "source": [
    "name1 = f + f0\n",
    "name2 = s + s0\n",
    "d = dup + dup0"
   ]
  },
  {
   "cell_type": "code",
   "execution_count": 30,
   "id": "cd6bf396",
   "metadata": {
    "execution": {
     "iopub.execute_input": "2022-10-21T19:06:19.821795Z",
     "iopub.status.busy": "2022-10-21T19:06:19.821376Z",
     "iopub.status.idle": "2022-10-21T19:06:20.020005Z",
     "shell.execute_reply": "2022-10-21T19:06:20.018623Z"
    },
    "papermill": {
     "duration": 0.211593,
     "end_time": "2022-10-21T19:06:20.022705",
     "exception": false,
     "start_time": "2022-10-21T19:06:19.811112",
     "status": "completed"
    },
    "tags": []
   },
   "outputs": [],
   "source": [
    "data = pd.DataFrame(data = {'name_1':name1, 'name_2':name2, 'is_dup':d})"
   ]
  },
  {
   "cell_type": "code",
   "execution_count": 31,
   "id": "ee0de838",
   "metadata": {
    "execution": {
     "iopub.execute_input": "2022-10-21T19:06:20.042553Z",
     "iopub.status.busy": "2022-10-21T19:06:20.042144Z",
     "iopub.status.idle": "2022-10-21T19:06:20.047690Z",
     "shell.execute_reply": "2022-10-21T19:06:20.046487Z"
    },
    "papermill": {
     "duration": 0.017895,
     "end_time": "2022-10-21T19:06:20.049687",
     "exception": false,
     "start_time": "2022-10-21T19:06:20.031792",
     "status": "completed"
    },
    "tags": []
   },
   "outputs": [],
   "source": [
    "data = data[:-1]"
   ]
  },
  {
   "cell_type": "code",
   "execution_count": 32,
   "id": "4ecea7a3",
   "metadata": {
    "execution": {
     "iopub.execute_input": "2022-10-21T19:06:20.069470Z",
     "iopub.status.busy": "2022-10-21T19:06:20.069023Z",
     "iopub.status.idle": "2022-10-21T19:06:20.225488Z",
     "shell.execute_reply": "2022-10-21T19:06:20.224442Z"
    },
    "papermill": {
     "duration": 0.169335,
     "end_time": "2022-10-21T19:06:20.228078",
     "exception": false,
     "start_time": "2022-10-21T19:06:20.058743",
     "status": "completed"
    },
    "tags": []
   },
   "outputs": [],
   "source": [
    "data = data.sample(frac=1).reset_index(drop=True)"
   ]
  },
  {
   "cell_type": "code",
   "execution_count": 33,
   "id": "5c904c4f",
   "metadata": {
    "execution": {
     "iopub.execute_input": "2022-10-21T19:06:20.248199Z",
     "iopub.status.busy": "2022-10-21T19:06:20.247804Z",
     "iopub.status.idle": "2022-10-21T19:06:21.342695Z",
     "shell.execute_reply": "2022-10-21T19:06:21.341745Z"
    },
    "papermill": {
     "duration": 1.10759,
     "end_time": "2022-10-21T19:06:21.345227",
     "exception": false,
     "start_time": "2022-10-21T19:06:20.237637",
     "status": "completed"
    },
    "tags": []
   },
   "outputs": [],
   "source": [
    "data.to_csv('data.csv', index = False)"
   ]
  }
 ],
 "metadata": {
  "kernelspec": {
   "display_name": "Python 3",
   "language": "python",
   "name": "python3"
  },
  "language_info": {
   "codemirror_mode": {
    "name": "ipython",
    "version": 3
   },
   "file_extension": ".py",
   "mimetype": "text/x-python",
   "name": "python",
   "nbconvert_exporter": "python",
   "pygments_lexer": "ipython3",
   "version": "3.7.12"
  },
  "papermill": {
   "default_parameters": {},
   "duration": 150.757255,
   "end_time": "2022-10-21T19:06:22.176502",
   "environment_variables": {},
   "exception": null,
   "input_path": "__notebook__.ipynb",
   "output_path": "__notebook__.ipynb",
   "parameters": {},
   "start_time": "2022-10-21T19:03:51.419247",
   "version": "2.3.4"
  }
 },
 "nbformat": 4,
 "nbformat_minor": 5
}
