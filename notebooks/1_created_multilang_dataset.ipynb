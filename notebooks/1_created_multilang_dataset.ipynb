{
 "cells": [
  {
   "cell_type": "code",
   "execution_count": 1,
   "id": "5767d393",
   "metadata": {
    "_cell_guid": "b1076dfc-b9ad-4769-8c92-a6c4dae69d19",
    "_uuid": "8f2839f25d086af736a60e9eeb907d3b93b6e0e5",
    "execution": {
     "iopub.execute_input": "2022-10-16T17:00:09.501908Z",
     "iopub.status.busy": "2022-10-16T17:00:09.501063Z",
     "iopub.status.idle": "2022-10-16T17:00:09.511448Z",
     "shell.execute_reply": "2022-10-16T17:00:09.510437Z"
    },
    "papermill": {
     "duration": 0.020564,
     "end_time": "2022-10-16T17:00:09.513978",
     "exception": false,
     "start_time": "2022-10-16T17:00:09.493414",
     "status": "completed"
    },
    "tags": []
   },
   "outputs": [],
   "source": [
    "# This Python 3 environment comes with many helpful analytics libraries installed\n",
    "# It is defined by the kaggle/python Docker image: https://github.com/kaggle/docker-python\n",
    "# For example, here's several helpful packages to load\n",
    "\n",
    "import numpy as np # linear algebra\n",
    "import pandas as pd # data processing, CSV file I/O (e.g. pd.read_csv)\n",
    "\n",
    "# Input data files are available in the read-only \"../input/\" directory\n",
    "# For example, running this (by clicking run or pressing Shift+Enter) will list all files under the input directory\n",
    "\n",
    "import os"
   ]
  },
  {
   "cell_type": "code",
   "execution_count": 2,
   "id": "84c25ec1",
   "metadata": {
    "execution": {
     "iopub.execute_input": "2022-10-16T17:00:09.524228Z",
     "iopub.status.busy": "2022-10-16T17:00:09.523806Z",
     "iopub.status.idle": "2022-10-16T17:00:10.374096Z",
     "shell.execute_reply": "2022-10-16T17:00:10.373213Z"
    },
    "papermill": {
     "duration": 0.858108,
     "end_time": "2022-10-16T17:00:10.376597",
     "exception": false,
     "start_time": "2022-10-16T17:00:09.518489",
     "status": "completed"
    },
    "tags": []
   },
   "outputs": [],
   "source": [
    "df = pd.read_csv('../input/sibur20-naming-data/train.csv')"
   ]
  },
  {
   "cell_type": "code",
   "execution_count": 3,
   "id": "696feab0",
   "metadata": {
    "execution": {
     "iopub.execute_input": "2022-10-16T17:00:10.387176Z",
     "iopub.status.busy": "2022-10-16T17:00:10.386536Z",
     "iopub.status.idle": "2022-10-16T17:00:10.412576Z",
     "shell.execute_reply": "2022-10-16T17:00:10.411473Z"
    },
    "papermill": {
     "duration": 0.034731,
     "end_time": "2022-10-16T17:00:10.415708",
     "exception": false,
     "start_time": "2022-10-16T17:00:10.380977",
     "status": "completed"
    },
    "tags": []
   },
   "outputs": [
    {
     "data": {
      "text/html": [
       "<div>\n",
       "<style scoped>\n",
       "    .dataframe tbody tr th:only-of-type {\n",
       "        vertical-align: middle;\n",
       "    }\n",
       "\n",
       "    .dataframe tbody tr th {\n",
       "        vertical-align: top;\n",
       "    }\n",
       "\n",
       "    .dataframe thead th {\n",
       "        text-align: right;\n",
       "    }\n",
       "</style>\n",
       "<table border=\"1\" class=\"dataframe\">\n",
       "  <thead>\n",
       "    <tr style=\"text-align: right;\">\n",
       "      <th></th>\n",
       "      <th>pair_id</th>\n",
       "      <th>name_1</th>\n",
       "      <th>name_2</th>\n",
       "      <th>is_duplicate</th>\n",
       "    </tr>\n",
       "  </thead>\n",
       "  <tbody>\n",
       "    <tr>\n",
       "      <th>0</th>\n",
       "      <td>1</td>\n",
       "      <td>Iko Industries Ltd.</td>\n",
       "      <td>Enormous Industrial Trade Pvt., Ltd.</td>\n",
       "      <td>0</td>\n",
       "    </tr>\n",
       "    <tr>\n",
       "      <th>1</th>\n",
       "      <td>2</td>\n",
       "      <td>Apcotex Industries Ltd.</td>\n",
       "      <td>Technocraft Industries (India) Ltd.</td>\n",
       "      <td>0</td>\n",
       "    </tr>\n",
       "    <tr>\n",
       "      <th>2</th>\n",
       "      <td>3</td>\n",
       "      <td>Rishichem Distributors Pvt., Ltd.</td>\n",
       "      <td>Dsa</td>\n",
       "      <td>0</td>\n",
       "    </tr>\n",
       "    <tr>\n",
       "      <th>3</th>\n",
       "      <td>4</td>\n",
       "      <td>Powermax Rubber Factory</td>\n",
       "      <td>Co. One</td>\n",
       "      <td>0</td>\n",
       "    </tr>\n",
       "    <tr>\n",
       "      <th>4</th>\n",
       "      <td>5</td>\n",
       "      <td>Tress A/S</td>\n",
       "      <td>Longyou Industries Park Zhejiang</td>\n",
       "      <td>0</td>\n",
       "    </tr>\n",
       "  </tbody>\n",
       "</table>\n",
       "</div>"
      ],
      "text/plain": [
       "   pair_id                             name_1  \\\n",
       "0        1                Iko Industries Ltd.   \n",
       "1        2            Apcotex Industries Ltd.   \n",
       "2        3  Rishichem Distributors Pvt., Ltd.   \n",
       "3        4            Powermax Rubber Factory   \n",
       "4        5                          Tress A/S   \n",
       "\n",
       "                                 name_2  is_duplicate  \n",
       "0  Enormous Industrial Trade Pvt., Ltd.             0  \n",
       "1   Technocraft Industries (India) Ltd.             0  \n",
       "2                                   Dsa             0  \n",
       "3                               Co. One             0  \n",
       "4      Longyou Industries Park Zhejiang             0  "
      ]
     },
     "execution_count": 3,
     "metadata": {},
     "output_type": "execute_result"
    }
   ],
   "source": [
    "df.head()"
   ]
  },
  {
   "cell_type": "code",
   "execution_count": 4,
   "id": "ba454919",
   "metadata": {
    "execution": {
     "iopub.execute_input": "2022-10-16T17:00:10.426531Z",
     "iopub.status.busy": "2022-10-16T17:00:10.425944Z",
     "iopub.status.idle": "2022-10-16T17:00:10.431842Z",
     "shell.execute_reply": "2022-10-16T17:00:10.430853Z"
    },
    "papermill": {
     "duration": 0.01381,
     "end_time": "2022-10-16T17:00:10.434022",
     "exception": false,
     "start_time": "2022-10-16T17:00:10.420212",
     "status": "completed"
    },
    "tags": []
   },
   "outputs": [
    {
     "data": {
      "text/plain": [
       "497819"
      ]
     },
     "execution_count": 4,
     "metadata": {},
     "output_type": "execute_result"
    }
   ],
   "source": [
    "len(df)"
   ]
  },
  {
   "cell_type": "code",
   "execution_count": 5,
   "id": "0c176cc0",
   "metadata": {
    "execution": {
     "iopub.execute_input": "2022-10-16T17:00:10.444468Z",
     "iopub.status.busy": "2022-10-16T17:00:10.444065Z",
     "iopub.status.idle": "2022-10-16T17:00:10.489979Z",
     "shell.execute_reply": "2022-10-16T17:00:10.488724Z"
    },
    "papermill": {
     "duration": 0.053968,
     "end_time": "2022-10-16T17:00:10.492542",
     "exception": false,
     "start_time": "2022-10-16T17:00:10.438574",
     "status": "completed"
    },
    "tags": []
   },
   "outputs": [],
   "source": [
    "df_1 = df.loc[df['is_duplicate'] == 1]\n",
    "df_0 = df.loc[df['is_duplicate'] == 0]"
   ]
  },
  {
   "cell_type": "code",
   "execution_count": 6,
   "id": "181c0203",
   "metadata": {
    "execution": {
     "iopub.execute_input": "2022-10-16T17:00:10.503893Z",
     "iopub.status.busy": "2022-10-16T17:00:10.502973Z",
     "iopub.status.idle": "2022-10-16T17:00:23.229454Z",
     "shell.execute_reply": "2022-10-16T17:00:23.228130Z"
    },
    "papermill": {
     "duration": 12.73484,
     "end_time": "2022-10-16T17:00:23.232089",
     "exception": false,
     "start_time": "2022-10-16T17:00:10.497249",
     "status": "completed"
    },
    "tags": []
   },
   "outputs": [
    {
     "name": "stdout",
     "output_type": "stream",
     "text": [
      "Collecting transliterate\r\n",
      "  Downloading transliterate-1.10.2-py2.py3-none-any.whl (45 kB)\r\n",
      "\u001b[2K     \u001b[90m━━━━━━━━━━━━━━━━━━━━━━━━━━━━━━━━━━━━━━━━\u001b[0m \u001b[32m45.8/45.8 kB\u001b[0m \u001b[31m2.2 MB/s\u001b[0m eta \u001b[36m0:00:00\u001b[0m\r\n",
      "\u001b[?25hRequirement already satisfied: six>=1.1.0 in /opt/conda/lib/python3.7/site-packages (from transliterate) (1.15.0)\r\n",
      "Installing collected packages: transliterate\r\n",
      "Successfully installed transliterate-1.10.2\r\n",
      "\u001b[33mWARNING: Running pip as the 'root' user can result in broken permissions and conflicting behaviour with the system package manager. It is recommended to use a virtual environment instead: https://pip.pypa.io/warnings/venv\u001b[0m\u001b[33m\r\n",
      "\u001b[0m"
     ]
    }
   ],
   "source": [
    "!pip install transliterate"
   ]
  },
  {
   "cell_type": "code",
   "execution_count": 7,
   "id": "1cff5d4a",
   "metadata": {
    "execution": {
     "iopub.execute_input": "2022-10-16T17:00:23.244226Z",
     "iopub.status.busy": "2022-10-16T17:00:23.243782Z",
     "iopub.status.idle": "2022-10-16T17:00:23.254440Z",
     "shell.execute_reply": "2022-10-16T17:00:23.253449Z"
    },
    "papermill": {
     "duration": 0.019789,
     "end_time": "2022-10-16T17:00:23.256997",
     "exception": false,
     "start_time": "2022-10-16T17:00:23.237208",
     "status": "completed"
    },
    "tags": []
   },
   "outputs": [],
   "source": [
    "from transliterate import translit, get_available_language_codes"
   ]
  },
  {
   "cell_type": "code",
   "execution_count": 8,
   "id": "cfd345d5",
   "metadata": {
    "execution": {
     "iopub.execute_input": "2022-10-16T17:00:23.268450Z",
     "iopub.status.busy": "2022-10-16T17:00:23.268073Z",
     "iopub.status.idle": "2022-10-16T17:00:23.278636Z",
     "shell.execute_reply": "2022-10-16T17:00:23.277424Z"
    },
    "papermill": {
     "duration": 0.019334,
     "end_time": "2022-10-16T17:00:23.281238",
     "exception": false,
     "start_time": "2022-10-16T17:00:23.261904",
     "status": "completed"
    },
    "tags": []
   },
   "outputs": [],
   "source": [
    "from itertools import chain\n",
    "\n",
    "def make_polylang_data(df, label = 0):\n",
    "    df = df[['name_1','name_2']].values.tolist()\n",
    "    new = []\n",
    "    for lang in get_available_language_codes():\n",
    "        prob = []\n",
    "        for i in range(len(df)):\n",
    "            fword = df[i][0]\n",
    "            sword = df[i][1]\n",
    "            fnword = translit(fword, lang)\n",
    "            snword = translit(sword, lang)\n",
    "            if label == 1:\n",
    "                prob.append([fword, fnword])\n",
    "                prob.append([sword, snword])\n",
    "            else:\n",
    "                prob.append([fword, snword])\n",
    "                prob.append([sword, fnword])\n",
    "        new.append(prob)\n",
    "    some = []\n",
    "    for l in range(len(new)):\n",
    "        prob = []\n",
    "        for i in range(len(new[l])):\n",
    "            word = new[l][i][1]\n",
    "            nword = new[l][i][0]\n",
    "            prob.append([word, nword])\n",
    "        some.append(prob)\n",
    "    new_df = new + some\n",
    "    new_df = list(chain(*new_df))\n",
    "    for t in new_df:\n",
    "        t.append(label)\n",
    "    return new_df\n",
    "    "
   ]
  },
  {
   "cell_type": "code",
   "execution_count": 9,
   "id": "b308866f",
   "metadata": {
    "execution": {
     "iopub.execute_input": "2022-10-16T17:00:23.293479Z",
     "iopub.status.busy": "2022-10-16T17:00:23.292825Z",
     "iopub.status.idle": "2022-10-16T17:00:23.297610Z",
     "shell.execute_reply": "2022-10-16T17:00:23.296683Z"
    },
    "papermill": {
     "duration": 0.013355,
     "end_time": "2022-10-16T17:00:23.299827",
     "exception": false,
     "start_time": "2022-10-16T17:00:23.286472",
     "status": "completed"
    },
    "tags": []
   },
   "outputs": [],
   "source": [
    "from random import shuffle"
   ]
  },
  {
   "cell_type": "code",
   "execution_count": 10,
   "id": "099e93d9",
   "metadata": {
    "execution": {
     "iopub.execute_input": "2022-10-16T17:00:23.311554Z",
     "iopub.status.busy": "2022-10-16T17:00:23.310912Z",
     "iopub.status.idle": "2022-10-16T17:00:23.318640Z",
     "shell.execute_reply": "2022-10-16T17:00:23.317837Z"
    },
    "papermill": {
     "duration": 0.016095,
     "end_time": "2022-10-16T17:00:23.320828",
     "exception": false,
     "start_time": "2022-10-16T17:00:23.304733",
     "status": "completed"
    },
    "tags": []
   },
   "outputs": [],
   "source": [
    "def filter_data(df, stop):\n",
    "    return df.loc[(df.name_1.str.len() > 15)&(df.name_2.str.len() > 15)][:stop]\n",
    "\n",
    "def get_data(df):\n",
    "    df_0 = df.loc[df['is_duplicate'] == 0]\n",
    "    df_1 = df.loc[df['is_duplicate'] == 1]\n",
    "    if len(df_0) > len(df_1):\n",
    "        df_0 = filter_data(df_0, len(df_1))\n",
    "    else:\n",
    "        df_1 = filter_data(df_1, len(df_0))\n",
    "    data1 = make_polylang_data(df_1, label = 1)\n",
    "    data2 = make_polylang_data(df_0, label = 0)\n",
    "    data = data1 + data2\n",
    "    shuffle(data)\n",
    "    return data"
   ]
  },
  {
   "cell_type": "code",
   "execution_count": 11,
   "id": "e5460298",
   "metadata": {
    "execution": {
     "iopub.execute_input": "2022-10-16T17:00:23.333250Z",
     "iopub.status.busy": "2022-10-16T17:00:23.332602Z",
     "iopub.status.idle": "2022-10-16T17:00:31.721318Z",
     "shell.execute_reply": "2022-10-16T17:00:31.720081Z"
    },
    "papermill": {
     "duration": 8.397845,
     "end_time": "2022-10-16T17:00:31.724109",
     "exception": false,
     "start_time": "2022-10-16T17:00:23.326264",
     "status": "completed"
    },
    "tags": []
   },
   "outputs": [],
   "source": [
    "data = get_data(df)"
   ]
  },
  {
   "cell_type": "code",
   "execution_count": 12,
   "id": "5a38d7d4",
   "metadata": {
    "execution": {
     "iopub.execute_input": "2022-10-16T17:00:31.735362Z",
     "iopub.status.busy": "2022-10-16T17:00:31.734960Z",
     "iopub.status.idle": "2022-10-16T17:00:31.955360Z",
     "shell.execute_reply": "2022-10-16T17:00:31.954205Z"
    },
    "papermill": {
     "duration": 0.228906,
     "end_time": "2022-10-16T17:00:31.958050",
     "exception": false,
     "start_time": "2022-10-16T17:00:31.729144",
     "status": "completed"
    },
    "tags": []
   },
   "outputs": [],
   "source": [
    "dff = pd.DataFrame(columns=['name_1', 'name_2', 'is_dup'], data=data)"
   ]
  },
  {
   "cell_type": "code",
   "execution_count": 13,
   "id": "5cf18eb4",
   "metadata": {
    "execution": {
     "iopub.execute_input": "2022-10-16T17:00:31.969638Z",
     "iopub.status.busy": "2022-10-16T17:00:31.969264Z",
     "iopub.status.idle": "2022-10-16T17:00:31.980952Z",
     "shell.execute_reply": "2022-10-16T17:00:31.979772Z"
    },
    "papermill": {
     "duration": 0.019942,
     "end_time": "2022-10-16T17:00:31.983248",
     "exception": false,
     "start_time": "2022-10-16T17:00:31.963306",
     "status": "completed"
    },
    "tags": []
   },
   "outputs": [
    {
     "data": {
      "text/html": [
       "<div>\n",
       "<style scoped>\n",
       "    .dataframe tbody tr th:only-of-type {\n",
       "        vertical-align: middle;\n",
       "    }\n",
       "\n",
       "    .dataframe tbody tr th {\n",
       "        vertical-align: top;\n",
       "    }\n",
       "\n",
       "    .dataframe thead th {\n",
       "        text-align: right;\n",
       "    }\n",
       "</style>\n",
       "<table border=\"1\" class=\"dataframe\">\n",
       "  <thead>\n",
       "    <tr style=\"text-align: right;\">\n",
       "      <th></th>\n",
       "      <th>name_1</th>\n",
       "      <th>name_2</th>\n",
       "      <th>is_dup</th>\n",
       "    </tr>\n",
       "  </thead>\n",
       "  <tbody>\n",
       "    <tr>\n",
       "      <th>0</th>\n",
       "      <td>Pu Max Trading (T) Co., Ltd.</td>\n",
       "      <td>Т.А. Цорпоратион Пвт., Лтд.</td>\n",
       "      <td>0</td>\n",
       "    </tr>\n",
       "    <tr>\n",
       "      <th>1</th>\n",
       "      <td>Схалфин Традинг Цо. Wлл</td>\n",
       "      <td>Dhaka Transport And Trading.</td>\n",
       "      <td>0</td>\n",
       "    </tr>\n",
       "    <tr>\n",
       "      <th>2</th>\n",
       "      <td>SOPREMA GmbH</td>\n",
       "      <td>СОПРЕМА ГмбХ</td>\n",
       "      <td>1</td>\n",
       "    </tr>\n",
       "    <tr>\n",
       "      <th>3</th>\n",
       "      <td>Kuraray India Private Ltd.</td>\n",
       "      <td>Spiro Hoses India Private Ltd.</td>\n",
       "      <td>0</td>\n",
       "    </tr>\n",
       "    <tr>\n",
       "      <th>4</th>\n",
       "      <td>Вибрацоустиц Индиа Привате Лтд.</td>\n",
       "      <td>Wictor Compounding (India) Private Ltd.</td>\n",
       "      <td>0</td>\n",
       "    </tr>\n",
       "  </tbody>\n",
       "</table>\n",
       "</div>"
      ],
      "text/plain": [
       "                            name_1                                   name_2  \\\n",
       "0     Pu Max Trading (T) Co., Ltd.              Т.А. Цорпоратион Пвт., Лтд.   \n",
       "1          Схалфин Традинг Цо. Wлл             Dhaka Transport And Trading.   \n",
       "2                     SOPREMA GmbH                             СОПРЕМА ГмбХ   \n",
       "3       Kuraray India Private Ltd.           Spiro Hoses India Private Ltd.   \n",
       "4  Вибрацоустиц Индиа Привате Лтд.  Wictor Compounding (India) Private Ltd.   \n",
       "\n",
       "   is_dup  \n",
       "0       0  \n",
       "1       0  \n",
       "2       1  \n",
       "3       0  \n",
       "4       0  "
      ]
     },
     "execution_count": 13,
     "metadata": {},
     "output_type": "execute_result"
    }
   ],
   "source": [
    "dff.head()"
   ]
  },
  {
   "cell_type": "code",
   "execution_count": 14,
   "id": "c7af4c3f",
   "metadata": {
    "execution": {
     "iopub.execute_input": "2022-10-16T17:00:31.994792Z",
     "iopub.status.busy": "2022-10-16T17:00:31.994424Z",
     "iopub.status.idle": "2022-10-16T17:00:32.833306Z",
     "shell.execute_reply": "2022-10-16T17:00:32.832139Z"
    },
    "papermill": {
     "duration": 0.847623,
     "end_time": "2022-10-16T17:00:32.835910",
     "exception": false,
     "start_time": "2022-10-16T17:00:31.988287",
     "status": "completed"
    },
    "tags": []
   },
   "outputs": [],
   "source": [
    "dff.to_csv('data.csv', index = False)"
   ]
  },
  {
   "cell_type": "code",
   "execution_count": null,
   "id": "c40ffdd4",
   "metadata": {
    "papermill": {
     "duration": 0.004834,
     "end_time": "2022-10-16T17:00:32.847539",
     "exception": false,
     "start_time": "2022-10-16T17:00:32.842705",
     "status": "completed"
    },
    "tags": []
   },
   "outputs": [],
   "source": []
  }
 ],
 "metadata": {
  "kernelspec": {
   "display_name": "Python 3",
   "language": "python",
   "name": "python3"
  },
  "language_info": {
   "codemirror_mode": {
    "name": "ipython",
    "version": 3
   },
   "file_extension": ".py",
   "mimetype": "text/x-python",
   "name": "python",
   "nbconvert_exporter": "python",
   "pygments_lexer": "ipython3",
   "version": "3.7.12"
  },
  "papermill": {
   "default_parameters": {},
   "duration": 33.048637,
   "end_time": "2022-10-16T17:00:33.774649",
   "environment_variables": {},
   "exception": null,
   "input_path": "__notebook__.ipynb",
   "output_path": "__notebook__.ipynb",
   "parameters": {},
   "start_time": "2022-10-16T17:00:00.726012",
   "version": "2.3.4"
  }
 },
 "nbformat": 4,
 "nbformat_minor": 5
}
